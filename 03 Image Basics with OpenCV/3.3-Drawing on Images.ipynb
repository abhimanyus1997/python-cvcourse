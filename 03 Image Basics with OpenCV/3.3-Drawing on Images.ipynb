{
 "cells": [
  {
   "cell_type": "code",
   "execution_count": 27,
   "metadata": {},
   "outputs": [
    {
     "name": "stdout",
     "output_type": "stream",
     "text": [
      "\n",
      "Example 3: Wed Jul 27 11:15:41 2022\n"
     ]
    }
   ],
   "source": [
    "# Python program to demonstrate\n",
    "# strftime() function\n",
    "\n",
    "\n",
    "from datetime import datetime as dt\n",
    "\n",
    "# Example 3\n",
    "#print('\\nExample 3:',now.strftime(\"%I:%M:%S %p, %a %x %z\"))\n",
    "\n",
    "print('\\nExample 3:',now.strftime(\"%c\"))"
   ]
  },
  {
   "cell_type": "code",
   "execution_count": null,
   "metadata": {},
   "outputs": [],
   "source": []
  }
 ],
 "metadata": {
  "kernelspec": {
   "display_name": "Python 3",
   "language": "python",
   "name": "python3"
  },
  "language_info": {
   "codemirror_mode": {
    "name": "ipython",
    "version": 3
   },
   "file_extension": ".py",
   "mimetype": "text/x-python",
   "name": "python",
   "nbconvert_exporter": "python",
   "pygments_lexer": "ipython3",
   "version": "3.6.6"
  }
 },
 "nbformat": 4,
 "nbformat_minor": 2
}
