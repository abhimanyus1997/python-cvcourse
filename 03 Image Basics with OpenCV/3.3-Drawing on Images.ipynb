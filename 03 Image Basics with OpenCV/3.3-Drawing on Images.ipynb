{
 "cells": [
  {
   "cell_type": "markdown",
   "metadata": {
    "slideshow": {
     "slide_type": "slide"
    }
   },
   "source": [
    "# Drawing on Image"
   ]
  },
  {
   "cell_type": "markdown",
   "metadata": {
    "slideshow": {
     "slide_type": "subslide"
    }
   },
   "source": [
    "## Drawing a Rectangle"
   ]
  },
  {
   "cell_type": "markdown",
   "metadata": {
    "slideshow": {
     "slide_type": "subslide"
    }
   },
   "source": [
    "`cv2.rectangle()` method is used to draw a rectangle on any image  \n",
    "  \n",
    "**Syntax:**\n",
    "```Python\n",
    "cv2.rectangle(image, pt1, pt2, color =(B,G,R), thickness)\n",
    "```\n",
    "* **pt1** represents the top left corner of rectangle\n",
    "* **pt2**  represents the bottom right corner of rectangle\n",
    "* **Thickness** of -1 px will fill the rectangle shape by the specified color."
   ]
  },
  {
   "cell_type": "code",
   "execution_count": 206,
   "metadata": {
    "slideshow": {
     "slide_type": "fragment"
    }
   },
   "outputs": [],
   "source": [
    "import cv2\n",
    "import numpy as np\n",
    "import matplotlib.pyplot as plt\n",
    "%matplotlib inline"
   ]
  },
  {
   "cell_type": "code",
   "execution_count": 207,
   "metadata": {},
   "outputs": [],
   "source": [
    "blank_img = np.zeros(shape=(512,512,3), dtype=np.int16)"
   ]
  },
  {
   "cell_type": "code",
   "execution_count": 208,
   "metadata": {
    "slideshow": {
     "slide_type": "fragment"
    }
   },
   "outputs": [
    {
     "data": {
      "text/plain": [
       "<matplotlib.image.AxesImage at 0x175b5dfc710>"
      ]
     },
     "execution_count": 208,
     "metadata": {},
     "output_type": "execute_result"
    },
    {
     "data": {
      "image/png": "[encoded data removed]",
      "text/plain": [
       "<Figure size 432x288 with 1 Axes>"
      ]
     },
     "metadata": {
      "needs_background": "light"
     },
     "output_type": "display_data"
    }
   ],
   "source": [
    "plt.imshow(blank_img)"
   ]
  },
  {
   "cell_type": "code",
   "execution_count": 209,
   "metadata": {},
   "outputs": [
    {
     "data": {
      "text/plain": [
       "<matplotlib.image.AxesImage at 0x175b6006860>"
      ]
     },
     "execution_count": 209,
     "metadata": {},
     "output_type": "execute_result"
    },
    {
     "data": {
      "image/png": "[encoded data removed]",
      "text/plain": [
       "<Figure size 432x288 with 1 Axes>"
      ]
     },
     "metadata": {
      "needs_background": "light"
     },
     "output_type": "display_data"
    }
   ],
   "source": [
    "#Draws a simple, thick, or filled up-right rectangle.\n",
    "cv2.rectangle(blank_img,pt1=(384,10), pt2=(500,150), color=(0,255,0),thickness=5)\n",
    "plt.imshow(blank_img)"
   ]
  },
  {
   "cell_type": "code",
   "execution_count": 210,
   "metadata": {},
   "outputs": [
    {
     "data": {
      "text/plain": [
       "array([[[0, 0, 0],\n",
       "        [0, 0, 0],\n",
       "        [0, 0, 0],\n",
       "        ...,\n",
       "        [0, 0, 0],\n",
       "        [0, 0, 0],\n",
       "        [0, 0, 0]],\n",
       "\n",
       "       [[0, 0, 0],\n",
       "        [0, 0, 0],\n",
       "        [0, 0, 0],\n",
       "        ...,\n",
       "        [0, 0, 0],\n",
       "        [0, 0, 0],\n",
       "        [0, 0, 0]],\n",
       "\n",
       "       [[0, 0, 0],\n",
       "        [0, 0, 0],\n",
       "        [0, 0, 0],\n",
       "        ...,\n",
       "        [0, 0, 0],\n",
       "        [0, 0, 0],\n",
       "        [0, 0, 0]],\n",
       "\n",
       "       ...,\n",
       "\n",
       "       [[0, 0, 0],\n",
       "        [0, 0, 0],\n",
       "        [0, 0, 0],\n",
       "        ...,\n",
       "        [0, 0, 0],\n",
       "        [0, 0, 0],\n",
       "        [0, 0, 0]],\n",
       "\n",
       "       [[0, 0, 0],\n",
       "        [0, 0, 0],\n",
       "        [0, 0, 0],\n",
       "        ...,\n",
       "        [0, 0, 0],\n",
       "        [0, 0, 0],\n",
       "        [0, 0, 0]],\n",
       "\n",
       "       [[0, 0, 0],\n",
       "        [0, 0, 0],\n",
       "        [0, 0, 0],\n",
       "        ...,\n",
       "        [0, 0, 0],\n",
       "        [0, 0, 0],\n",
       "        [0, 0, 0]]], dtype=int16)"
      ]
     },
     "execution_count": 210,
     "metadata": {},
     "output_type": "execute_result"
    }
   ],
   "source": [
    "#Draw Blue Square at center\n",
    "cv2.rectangle(blank_img,pt1 = (200,200),pt2=(300,300), color=(255,255,0),\n",
    "              thickness=10)"
   ]
  },
  {
   "cell_type": "code",
   "execution_count": 211,
   "metadata": {},
   "outputs": [
    {
     "data": {
      "text/plain": [
       "<matplotlib.image.AxesImage at 0x175b87c2ba8>"
      ]
     },
     "execution_count": 211,
     "metadata": {},
     "output_type": "execute_result"
    },
    {
     "data": {
      "image/png": "[encoded data removed]",
      "text/plain": [
       "<Figure size 432x288 with 1 Axes>"
      ]
     },
     "metadata": {
      "needs_background": "light"
     },
     "output_type": "display_data"
    }
   ],
   "source": [
    "plt.imshow(blank_img)"
   ]
  },
  {
   "cell_type": "markdown",
   "metadata": {},
   "source": [
    "## Drawing Circle"
   ]
  },
  {
   "cell_type": "markdown",
   "metadata": {},
   "source": [
    "`cv2.circle()` method is used to draw a circle on any image. \n",
    "\n",
    "**Syntax**:\n",
    "```Python \n",
    " cv2.circle(image, center, radius, color, thickness)\n",
    "```"
   ]
  },
  {
   "cell_type": "code",
   "execution_count": 212,
   "metadata": {},
   "outputs": [
    {
     "data": {
      "text/plain": [
       "<matplotlib.image.AxesImage at 0x175b8811b00>"
      ]
     },
     "execution_count": 212,
     "metadata": {},
     "output_type": "execute_result"
    },
    {
     "data": {
      "image/png": "[encoded data removed]",
      "text/plain": [
       "<Figure size 432x288 with 1 Axes>"
      ]
     },
     "metadata": {
      "needs_background": "light"
     },
     "output_type": "display_data"
    }
   ],
   "source": [
    "blank_img = np.zeros((512,512,3), np.uint8)\n",
    "cv2.circle(blank_img, center = (250,250), radius=150, color=(255,0,0), thickness=3)\n",
    "plt.imshow(blank_img)"
   ]
  },
  {
   "cell_type": "code",
   "execution_count": 213,
   "metadata": {},
   "outputs": [
    {
     "data": {
      "image/png": "[encoded data removed]",
      "text/plain": [
       "<Figure size 432x288 with 1 Axes>"
      ]
     },
     "metadata": {
      "needs_background": "light"
     },
     "output_type": "display_data"
    }
   ],
   "source": [
    "# Creating a Dart Game's Target kind of thing using opencv draw\n",
    "def create_bullseye():\n",
    "    bulls_eye_img = np.zeros((512,512,3), np.uint8)\n",
    "    x = 300\n",
    "    while x>5:\n",
    "        bulls_eye_img = cv2.circle(blank_img, center = (250,250), radius=x, color=(255,0,0), thickness=2)\n",
    "        if x<=10:\n",
    "            bulls_eye_img = cv2.circle(blank_img, center = (250,250), radius=x, color=(255,0,0), thickness=-1)\n",
    "        x-=20\n",
    "    \n",
    "    plt.axis(\"off\")\n",
    "    plt.title(\"Bulls Eye\")\n",
    "    plt.imshow(bulls_eye_img)\n",
    "    return bulls_eye_img\n",
    "\n",
    "bullseye_img = create_bullseye()"
   ]
  },
  {
   "cell_type": "markdown",
   "metadata": {},
   "source": [
    "## Drawing a Line"
   ]
  },
  {
   "cell_type": "markdown",
   "metadata": {},
   "source": [
    "`cv2.line()` method is used to draw a line on any image.\n",
    "\n",
    "__Syntax:__\n",
    "```python\n",
    "cv2.line(image, pt1, pt2, color, thickness) \n",
    "```"
   ]
  },
  {
   "cell_type": "code",
   "execution_count": 214,
   "metadata": {},
   "outputs": [
    {
     "data": {
      "text/plain": [
       "<matplotlib.image.AxesImage at 0x175b9a5d550>"
      ]
     },
     "execution_count": 214,
     "metadata": {},
     "output_type": "execute_result"
    },
    {
     "data": {
      "image/png": "[encoded data removed]",
      "text/plain": [
       "<Figure size 432x288 with 1 Axes>"
      ]
     },
     "metadata": {
      "needs_background": "light"
     },
     "output_type": "display_data"
    }
   ],
   "source": [
    "cv2.line(bullseye_img, pt1 =(250,150), pt2=(250,350), color=(255,255,255),\n",
    "         thickness=4)\n",
    "cv2.line(bullseye_img, pt1 =(150,250), pt2=(350,250), color=(255,255,255),\n",
    "         thickness=4)\n",
    "\n",
    "plt.imshow(bullseye_img)"
   ]
  },
  {
   "cell_type": "markdown",
   "metadata": {},
   "source": [
    "## Drawing a Text String"
   ]
  },
  {
   "cell_type": "markdown",
   "metadata": {},
   "source": [
    "`cv2.putText()` method is used to draw a text string on any image.  \n",
    "  \n",
    "__Syntax:__ \n",
    "```Python\n",
    "cv2.putText(image, text, org, font, fontScale, color[, thickness[, lineType[, bottomLeftOrigin]]])\n",
    "```\n",
    "  \n",
    "_Parameters:_  \n",
    "* **text**: Text string to be drawn.\n",
    "* **org**: Bottom-left corner of the text string in the image.\n",
    "* **fontFace**: Font type\n",
    "    * example: Some of font types are FONT_HERSHEY_SIMPLEX, FONT_HERSHEY_PLAIN, etc.\n",
    "* **fontScale**: Font scale factor that is multiplied by the font-specific base size.\n",
    "* **color**: Text color.\n",
    "* **thickness**: Thickness of the lines used to draw a text.\n",
    "* **lineType**: Line type. See #LineTypes\n",
    "* **bottomLeftOrigin**: When true, the image data origin is at the bottom-left corner. Otherwise,\n",
    ".   it is at the top-left corner.\n"
   ]
  },
  {
   "cell_type": "code",
   "execution_count": 215,
   "metadata": {},
   "outputs": [
    {
     "data": {
      "text/plain": [
       "<matplotlib.image.AxesImage at 0x175b9aa5f60>"
      ]
     },
     "execution_count": 215,
     "metadata": {},
     "output_type": "execute_result"
    },
    {
     "data": {
      "image/png": "[encoded data removed]",
      "text/plain": [
       "<Figure size 432x288 with 1 Axes>"
      ]
     },
     "metadata": {
      "needs_background": "light"
     },
     "output_type": "display_data"
    }
   ],
   "source": [
    "blank_img = np.zeros(shape=(512,512,3), dtype=np.uint8)\n",
    "\n",
    "font = cv2.FONT_HERSHEY_SIMPLEX\n",
    "cv2.putText(blank_img, text=\"Hello\", org=(10,500), fontFace=font, fontScale=4,\n",
    "           color=(255,255,255), thickness=3, lineType=cv2.LINE_4)\n",
    "\n",
    "plt.imshow(blank_img)"
   ]
  },
  {
   "cell_type": "markdown",
   "metadata": {},
   "source": [
    "## Drawing Polygon using `polylines()`"
   ]
  },
  {
   "cell_type": "markdown",
   "metadata": {},
   "source": [
    "`cv2.polylines()` method is used to draw a polygon on any image.  \n",
    "  \n",
    "__Syntax:__\n",
    "```python\n",
    "    cv.polylines(img, pts, isClosed, color[, thickness[, lineType[, shift]]])\n",
    "```\n",
    "  \n",
    "_Parameters:_\n",
    "* **img:** Image.\n",
    "* **pts:** Array of polygonal curves.\n",
    "* **isClosed:** Flag indicating whether the drawn polylines are closed or not. If they are closed, the function draws a line from the last vertex of each curve to its first vertex.\n",
    "* **color:** Polyline color.\n",
    "* **thickness:** Thickness of the polyline edges.\n",
    "* **lineType:** Type of the line segments. See LineTypes\n",
    "* **shift:** Number of fractional bits in the vertex coordinates."
   ]
  },
  {
   "cell_type": "code",
   "execution_count": 216,
   "metadata": {},
   "outputs": [
    {
     "data": {
      "text/plain": [
       "<matplotlib.image.AxesImage at 0x175b9afc438>"
      ]
     },
     "execution_count": 216,
     "metadata": {},
     "output_type": "execute_result"
    },
    {
     "data": {
      "image/png": "[encoded data removed]",
      "text/plain": [
       "<Figure size 432x288 with 1 Axes>"
      ]
     },
     "metadata": {
      "needs_background": "light"
     },
     "output_type": "display_data"
    }
   ],
   "source": [
    "blank_img = np.zeros(shape=(512,512,3), dtype=np.uint16)\n",
    "plt.imshow(blank_img)"
   ]
  },
  {
   "cell_type": "code",
   "execution_count": 217,
   "metadata": {},
   "outputs": [],
   "source": [
    "vertices = np.array([ [100,300],[200,200],[400,300],[200,400]], dtype=np.int32)"
   ]
  },
  {
   "cell_type": "code",
   "execution_count": 218,
   "metadata": {},
   "outputs": [
    {
     "data": {
      "text/plain": [
       "(4, 2)"
      ]
     },
     "execution_count": 218,
     "metadata": {},
     "output_type": "execute_result"
    }
   ],
   "source": [
    "vertices.shape"
   ]
  },
  {
   "cell_type": "code",
   "execution_count": 219,
   "metadata": {},
   "outputs": [
    {
     "data": {
      "text/plain": [
       "(4, 1, 2)"
      ]
     },
     "execution_count": 219,
     "metadata": {},
     "output_type": "execute_result"
    }
   ],
   "source": [
    "#Opencv wants it into 3 dimnesions\n",
    "pts = vertices.reshape((-1,1,2))\n",
    "pts.shape"
   ]
  },
  {
   "cell_type": "markdown",
   "metadata": {},
   "source": [
    "> __NOTE:__ This changes the shape from (4,2) to (4,1,2), which is consistent with the kind of shape several cv2 functions use. For example, if you wanted to find contours using findContours the output contours have shape (x,1,y)."
   ]
  },
  {
   "cell_type": "code",
   "execution_count": 220,
   "metadata": {},
   "outputs": [
    {
     "data": {
      "text/plain": [
       "array([[[100, 300]],\n",
       "\n",
       "       [[200, 200]],\n",
       "\n",
       "       [[400, 300]],\n",
       "\n",
       "       [[200, 400]]])"
      ]
     },
     "execution_count": 220,
     "metadata": {},
     "output_type": "execute_result"
    }
   ],
   "source": [
    "pts"
   ]
  },
  {
   "cell_type": "code",
   "execution_count": 221,
   "metadata": {},
   "outputs": [
    {
     "data": {
      "text/plain": [
       "<matplotlib.image.AxesImage at 0x175b9b4e470>"
      ]
     },
     "execution_count": 221,
     "metadata": {},
     "output_type": "execute_result"
    },
    {
     "data": {
      "image/png": "[encoded data removed]",
      "text/plain": [
       "<Figure size 432x288 with 1 Axes>"
      ]
     },
     "metadata": {
      "needs_background": "light"
     },
     "output_type": "display_data"
    }
   ],
   "source": [
    "cv2.polylines(blank_img, pts=[pts], isClosed=True, color=(255,0,0), thickness=4)\n",
    "plt.imshow(blank_img)"
   ]
  },
  {
   "cell_type": "markdown",
   "metadata": {},
   "source": [
    "## Drawing an Ellipse"
   ]
  },
  {
   "cell_type": "markdown",
   "metadata": {},
   "source": [
    "`cv2.ellipse()` method is used to draw a ellipse on any image. \n",
    " \n",
    "Draws a simple or thick elliptic arc or fills an ellipse sector.\n",
    " \n",
    "__Syntax:__\n",
    "\n",
    "```Python:\n",
    "cv.ellipse(img, center, axes, angle, startAngle, endAngle, color[, thickness[, lineType[, shift]]]) \n",
    "```\n",
    " \n",
    "_Parameters:_\n",
    "* __img:__ Image.\n",
    "* __center:__ Center of the ellipse.\n",
    "* __axes:__ Half of the size of the ellipse main axes.\n",
    "* __angle:__ Ellipse rotation angle in degrees.\n",
    "* __startAngle:__ Starting angle of the elliptic arc in degrees.\n",
    "* __endAngle:__ Ending angle of the elliptic arc in degrees.\n",
    "* __color:__ Ellipse color.\n",
    "* __thickness:__ Thickness of the ellipse arc outline, if positive. Otherwise, this indicates that a filled ellipse sector is to be drawn.\n",
    "* __lineType:__ Type of the ellipse boundary. See LineTypes\n",
    "* __shift:__ Number of fractional bits in the coordinates of the center and values of axes.\n",
    "\n",
    "![Ellise Parameters](opencv_doc_ellipse.jpg)\n"
   ]
  },
  {
   "cell_type": "code",
   "execution_count": 222,
   "metadata": {},
   "outputs": [
    {
     "data": {
      "text/plain": [
       "<matplotlib.image.AxesImage at 0x175b9b9f4e0>"
      ]
     },
     "execution_count": 222,
     "metadata": {},
     "output_type": "execute_result"
    },
    {
     "data": {
      "image/png": "[encoded data removed]",
      "text/plain": [
       "<Figure size 432x288 with 1 Axes>"
      ]
     },
     "metadata": {
      "needs_background": "light"
     },
     "output_type": "display_data"
    }
   ],
   "source": [
    "center_coordinates = (120, 100)\n",
    "  \n",
    "axesLength = (100, 50)\n",
    "  \n",
    "angle = 0\n",
    "  \n",
    "startAngle = 0\n",
    "  \n",
    "endAngle = 360\n",
    "   \n",
    "# Red color in BGR\n",
    "color = (0, 0, 255)\n",
    "   \n",
    "# Line thickness of 5 px\n",
    "thickness = 5\n",
    "   \n",
    "# Using cv2.ellipse() method\n",
    "# Draw a ellipse with red line borders of thickness of 5 px\n",
    "image = cv2.ellipse(blank_img, center_coordinates, axesLength,\n",
    "           angle, startAngle, endAngle, color, thickness)\n",
    "plt.imshow(image)"
   ]
  }
 ],
 "metadata": {
  "kernelspec": {
   "display_name": "Python 3",
   "language": "python",
   "name": "python3"
  },
  "language_info": {
   "codemirror_mode": {
    "name": "ipython",
    "version": 3
   },
   "file_extension": ".py",
   "mimetype": "text/x-python",
   "name": "python",
   "nbconvert_exporter": "python",
   "pygments_lexer": "ipython3",
   "version": "3.6.6"
  }
 },
 "nbformat": 4,
 "nbformat_minor": 2
}
